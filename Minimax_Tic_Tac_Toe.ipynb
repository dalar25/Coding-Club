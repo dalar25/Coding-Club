{
  "nbformat": 4,
  "nbformat_minor": 0,
  "metadata": {
    "colab": {
      "provenance": []
    },
    "kernelspec": {
      "name": "python3",
      "display_name": "Python 3"
    },
    "language_info": {
      "name": "python"
    }
  },
  "cells": [
    {
      "cell_type": "code",
      "execution_count": 1,
      "metadata": {
        "cellView": "form",
        "id": "GiTjj523pjyv"
      },
      "outputs": [],
      "source": [
        "#@title Run this to implement tic-tac-toe!\n",
        "from copy import copy, deepcopy\n",
        "\n",
        "def available_moves(board):\n",
        "  availableMoves = []\n",
        "  for r in range(len(board)):\n",
        "    for c in range(len(board[r])):\n",
        "      if board[r][c] == '_':\n",
        "        availableMoves.append((r,c))\n",
        "  return availableMoves \n",
        "\n",
        "def is_move_ok(loc, board):\n",
        "  return loc in available_moves(board)\n",
        "\n",
        "def check_victory(board):\n",
        "  for r in board:\n",
        "    if r[0] == r[1] == r[2] and r[0] != '_':\n",
        "      return r[0]\n",
        "  \n",
        "  for c in range(len(board[0])):\n",
        "    if board[0][c] == board[1][c] == board[2][c] and board[0][c] != '_':\n",
        "      return board[0][c]\n",
        "  \n",
        "  if board[0][0] == board[1][1] == board[2][2] and board[0][0] != '_':\n",
        "    return board[0][0]\n",
        "  \n",
        "  if board[0][2] == board[1][1] == board[2][0] and board[0][2] != '_':\n",
        "    return board[0][2]\n",
        "  \n",
        "  if len(available_moves(board)) == 0:\n",
        "    return 'draw'\n",
        "  \n",
        "  return 'ongoing'\n",
        "\n",
        "def print_board(board):\n",
        "  print('| ' + board[0][0] + ' | ' + board[0][1] + ' | ' + board[0][2] + ' |')\n",
        "  print('| ' + board[1][0] + ' | ' + board[1][1] + ' | ' + board[1][2] + ' |')\n",
        "  print('| ' + board[2][0] + ' | ' + board[2][1] + ' | ' + board[2][2] + ' |')\n",
        "\n",
        "def play_game(player1='human', player2='human'):\n",
        "  game_board = [['_', '_', '_'],\n",
        "               ['_', '_', '_'],\n",
        "               ['_', '_', '_']]\n",
        "  victory = 'ongoing'\n",
        "  player = 'X'\n",
        "  while victory =='ongoing':\n",
        "    print_board(game_board)\n",
        "    if (player == 'X' and player1 == 'human') or (player == 'O' and player2 == 'human'):\n",
        "      unparsed_coordinates = input(\"Where do you want to place? \") \n",
        "      try: \n",
        "        parsed = unparsed_coordinates.replace('(', \"\").replace(')', \"\") # make sure input format is right\n",
        "        if ', ' in parsed:\n",
        "          coords = tuple(parsed.split(\", \"))\n",
        "        else:\n",
        "          coords = tuple(parsed.split(\",\"))\n",
        "        coordinates = (int(coords[0]), int(coords[1]))\n",
        "    \n",
        "      except: # if people put in anything that doesn't fit the format, it will be caught here\n",
        "        print(\"Please enter a coordinate in the correct format.\")\n",
        "        continue\n",
        "    else:\n",
        "      print(\"Computer\", player, \"is deciding on a move!\")\n",
        "      if player == 'X':\n",
        "        coordinates = player1(game_board, player)\n",
        "        if type(coordinates[1])!=int:\n",
        "          coordinates = coordinates[1]\n",
        "      else:\n",
        "        coordinates = player2(game_board, player)\n",
        "        if type(coordinates[1])!=int:\n",
        "          coordinates = coordinates[1]\n",
        "    if not is_move_ok(coordinates, game_board):\n",
        "      print(\"Please enter a coordinate in bounds that is open.\")\n",
        "      continue\n",
        "    else:\n",
        "      game_board[coordinates[0]][coordinates[1]] = player\n",
        "      if player == 'X':\n",
        "        player = 'O'\n",
        "      else:\n",
        "        player = 'X'\n",
        "      victory = check_victory(game_board)\n",
        "  \n",
        "  print_board(game_board)\n",
        "  if victory == 'draw':\n",
        "    print(\"The game ended in a draw!\")\n",
        "  else:\n",
        "    print(\"Player\", victory, \"won the game!\")\n",
        "\n",
        "def get_board_score(board, player):\n",
        "  result = check_victory(board)\n",
        "  if result == 'draw' or result == 'ongoing':\n",
        "    return 0\n",
        "  \n",
        "  elif result != player:\n",
        "    return -10\n",
        "  \n",
        "  else:\n",
        "    return 10\n",
        "\n",
        "def other_player(player):\n",
        "  if player == 'O':\n",
        "      otherPlayer = 'X'\n",
        "  else:\n",
        "    otherPlayer = 'O'\n",
        "  return otherPlayer"
      ]
    },
    {
      "cell_type": "markdown",
      "source": [
        "get_board_score(board, player) - Given a game state and player, this function returns 0 if the game is ongoing/drawn, -10 if the player has lost, or 10 if the player has won.\n",
        "\n",
        "check_victory(board) - Given a game state, this function checks if X has won, O has won, the game has drawn, or the game is ongoing.\n",
        "\n",
        "available_moves(board) - Given a game state, this function returns all available moves that the next player can take.\n",
        "\n",
        "other_player(player) - Given a player, this function return the opponent player.\n",
        "\n",
        "play_game() - This function simulates a game of Tic-Tac-Toe."
      ],
      "metadata": {
        "id": "nOUmjk3okHIV"
      }
    },
    {
      "cell_type": "code",
      "source": [
        "def maximize_score(board, player):\n",
        "  if check_victory(board) != 'ongoing':\n",
        "    return get_board_score(board,player)\n",
        "  maximum = -float('inf') #general way to make sure that this value is less than \n",
        "                          #all possible \"values\" given for a game state\n",
        "  moves = available_moves(board) #finds all the available positions that the \n",
        "                                 #next player can play\n",
        "  for move in moves: #loops through all these available positions\n",
        "    child = deepcopy(board) #deepcopy makes a copy of all elements of the \n",
        "                            #original list, while copy references all elements \n",
        "                            #of the original list\n",
        "    child[move[0]][move[1]] = player #assigns the board position to the symbol \n",
        "                                     #that the player chose\n",
        "    maximize = minimize_score(child, other_player(player)) #minimize the score \n",
        "                                                           #of the other player; \n",
        "                                                           #we will create a \n",
        "                                                           #minimize function \n",
        "    maximum = max(maximize,maximum) #maximize the minimum score of the other \n",
        "                                    #player\n",
        "  return maximum "
      ],
      "metadata": {
        "id": "o2G64iQoqRUR"
      },
      "execution_count": 2,
      "outputs": []
    },
    {
      "cell_type": "code",
      "source": [
        "def minimize_score(board, player):\n",
        "  if check_victory(board) != 'ongoing':\n",
        "    return get_board_score(board,other_player(player))\n",
        "  minimum = float('inf')\n",
        "  moves = available_moves(board)\n",
        "  for move in moves:\n",
        "    child = deepcopy(board)\n",
        "    child[move[0]][move[1]] = player\n",
        "    minimize = maximize_score(child, other_player(player))\n",
        "    minimum = min(minimize,minimum)\n",
        "  return minimum "
      ],
      "metadata": {
        "id": "OxdCoATzqSmx"
      },
      "execution_count": 3,
      "outputs": []
    },
    {
      "cell_type": "code",
      "source": [
        "def minimax_move(board, player):\n",
        "  best_move = None #we will return this at the end of the function\n",
        "  value = -float('inf') #will track the maximum lowest score for the other \n",
        "                        #player\n",
        "  moves = available_moves(board)\n",
        "  for move in moves:\n",
        "    child = deepcopy(board)\n",
        "    child[move[0]][move[1]] = player\n",
        "    childVal = minimize_score(child, other_player(player)) #minimize the score \n",
        "                                                           #of the other player\n",
        "    if value <= childVal: #this means that the maximum lowest score for the \n",
        "                          #child is greater than the previous maximum lowest \n",
        "                          #score calculated\n",
        "      value = childVal #change value variable and best move\n",
        "      best_move = move\n",
        "  return best_move #finally return best move"
      ],
      "metadata": {
        "id": "zPyxPwY7qjK5"
      },
      "execution_count": 4,
      "outputs": []
    },
    {
      "cell_type": "code",
      "source": [
        "play_game(player1=minimax_move, player2='human')"
      ],
      "metadata": {
        "colab": {
          "base_uri": "https://localhost:8080/"
        },
        "id": "Z8Z1RNhIqklQ",
        "outputId": "2667c4ee-6a28-40e1-f74a-1e0a1c765062"
      },
      "execution_count": 6,
      "outputs": [
        {
          "output_type": "stream",
          "name": "stdout",
          "text": [
            "| _ | _ | _ |\n",
            "| _ | _ | _ |\n",
            "| _ | _ | _ |\n",
            "Computer X is deciding on a move!\n",
            "| _ | _ | _ |\n",
            "| _ | _ | _ |\n",
            "| _ | _ | X |\n",
            "Where do you want to place? 2,1\n",
            "| _ | _ | _ |\n",
            "| _ | _ | _ |\n",
            "| _ | O | X |\n",
            "Computer X is deciding on a move!\n",
            "| _ | _ | _ |\n",
            "| _ | _ | X |\n",
            "| _ | O | X |\n",
            "Where do you want to place? 0,2\n",
            "| _ | _ | O |\n",
            "| _ | _ | X |\n",
            "| _ | O | X |\n",
            "Computer X is deciding on a move!\n",
            "| _ | _ | O |\n",
            "| _ | X | X |\n",
            "| _ | O | X |\n",
            "Where do you want to place? 1,0\n",
            "| _ | _ | O |\n",
            "| O | X | X |\n",
            "| _ | O | X |\n",
            "Computer X is deciding on a move!\n",
            "| X | _ | O |\n",
            "| O | X | X |\n",
            "| _ | O | X |\n",
            "Player X won the game!\n"
          ]
        }
      ]
    }
  ]
}