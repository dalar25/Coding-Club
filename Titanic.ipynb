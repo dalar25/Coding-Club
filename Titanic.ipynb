{
  "nbformat": 4,
  "nbformat_minor": 0,
  "metadata": {
    "colab": {
      "provenance": []
    },
    "kernelspec": {
      "name": "python3",
      "display_name": "Python 3"
    },
    "language_info": {
      "name": "python"
    }
  },
  "cells": [
    {
      "cell_type": "code",
      "execution_count": null,
      "metadata": {
        "id": "qh6GE3URsqTy"
      },
      "outputs": [],
      "source": [
        "import pandas as pd\n",
        "from sklearn.model_selection import train_test_split\n",
        "from sklearn.ensemble import RandomForestClassifier\n",
        "from sklearn.metrics import accuracy_score\n",
        "import numpy as np\n",
        "data = pd.read_csv('titanic.csv')"
      ]
    },
    {
      "cell_type": "code",
      "source": [
        "data = data.drop(['PassengerId','Name','Ticket','Cabin','Embarked'],axis=1)\n",
        "\n",
        "SexList = []\n",
        "for i in data['Sex'].values:\n",
        "  if i == 'male':\n",
        "    SexList.append(0)\n",
        "  else:\n",
        "    SexList.append(1)\n",
        "\n",
        "data['SexNum'] = SexList\n",
        "data = data.drop('Sex',axis=1)"
      ],
      "metadata": {
        "id": "zLR7VR5t7fdU"
      },
      "execution_count": null,
      "outputs": []
    },
    {
      "cell_type": "code",
      "source": [
        "def clean_dataset(df):\n",
        "    assert isinstance(df, pd.DataFrame)\n",
        "    df.dropna(inplace=True)\n",
        "    indices_to_keep = ~df.isin([np.nan, np.inf, -np.inf]).any(1)\n",
        "    return df[indices_to_keep].astype(np.float64)\n",
        "  \n",
        "data = clean_dataset(data)"
      ],
      "metadata": {
        "id": "Z6_SGJh77V6I"
      },
      "execution_count": null,
      "outputs": []
    },
    {
      "cell_type": "code",
      "source": [
        "y = data['Survived'].values"
      ],
      "metadata": {
        "id": "lvmC4zFOucmx"
      },
      "execution_count": null,
      "outputs": []
    },
    {
      "cell_type": "code",
      "source": [
        "data = data.drop('Survived',axis=1)\n",
        "X = data"
      ],
      "metadata": {
        "id": "CGHijc8CtkNY"
      },
      "execution_count": null,
      "outputs": []
    },
    {
      "cell_type": "code",
      "source": [
        "X_train, X_test, y_train, y_test = train_test_split(X, y, test_size=0.20,random_state=4)"
      ],
      "metadata": {
        "id": "l5RXJQtnu67X"
      },
      "execution_count": null,
      "outputs": []
    },
    {
      "cell_type": "code",
      "source": [
        "print(X_train['Pclass'].unique())\n",
        "print(X_train['SexNum'].unique())\n",
        "print(X_train['Parch'].unique())\n",
        "print(X_train['SibSp'].unique())\n",
        "print(np.unique(y_train))"
      ],
      "metadata": {
        "id": "lIEwDg8azurj"
      },
      "execution_count": null,
      "outputs": []
    },
    {
      "cell_type": "code",
      "source": [
        "model = RandomForestClassifier(n_estimators=100, max_depth=5, random_state=2)\n",
        "model.fit(X_train, y_train)\n",
        "predictions = model.predict(X_test)"
      ],
      "metadata": {
        "id": "T98SBClTvOTb"
      },
      "execution_count": null,
      "outputs": []
    },
    {
      "cell_type": "code",
      "source": [
        "print(X_train)"
      ],
      "metadata": {
        "id": "66OryON7As1C"
      },
      "execution_count": null,
      "outputs": []
    },
    {
      "cell_type": "code",
      "source": [
        "print(predictions)\n",
        "print(y_test)"
      ],
      "metadata": {
        "id": "DJrqgwJN-l0B"
      },
      "execution_count": null,
      "outputs": []
    },
    {
      "cell_type": "code",
      "source": [
        "accuracy_score(y_test, predictions)"
      ],
      "metadata": {
        "id": "xQQvcSht7mRh"
      },
      "execution_count": null,
      "outputs": []
    }
  ]
}
